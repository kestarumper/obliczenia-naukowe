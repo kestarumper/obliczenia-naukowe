{
 "cells": [
  {
   "cell_type": "markdown",
   "metadata": {},
   "source": [
    "# Lista nr 1 (laboratorium)\n",
    "## zad. 1 (Rozpoznanie arytmetyki) // TODO: float.h\n",
    "Epsilonem maszynowym macheps (ang. machine epsilon) nazywamy najmniejszą liczbę macheps >\n",
    "0 taką, że fl(1.0 + macheps) > 1.0.\n",
    "### a)\n",
    "Napisać program w języku Julia wyznaczający iteracyjnie epsilony maszynowe dla wszystkich\n",
    "dostępnych typów zmiennopozycyjnych Float16, Float32, Float64, zgodnych ze standardem\n",
    "IEEE 754 (half, single, double), i porównać z wartościami zwracanymi przez\n",
    "funkcje: eps(Float16), eps(Float32), eps(Float64) oraz z danymi zawartymi w pliku\n",
    "nagłówkowym float.h dowolnej instalacji języka C."
   ]
  },
  {
   "cell_type": "code",
   "execution_count": 1,
   "metadata": {},
   "outputs": [
    {
     "data": {
      "text/plain": [
       "machEps (generic function with 1 method)"
      ]
     },
     "execution_count": 1,
     "metadata": {},
     "output_type": "execute_result"
    }
   ],
   "source": [
    "function machEps(dataType)\n",
    "    epsilon = dataType(1)\n",
    "    one = dataType(1)\n",
    "    while (one + (epsilon/2)) != one\n",
    "        epsilon = epsilon/2\n",
    "    end\n",
    "    return epsilon\n",
    "end"
   ]
  },
  {
   "cell_type": "code",
   "execution_count": 2,
   "metadata": {},
   "outputs": [
    {
     "name": "stdout",
     "output_type": "stream",
     "text": [
      "0.000977\n",
      "0.000977\n"
     ]
    }
   ],
   "source": [
    "println(machEps(Float16))\n",
    "println(eps(Float16))"
   ]
  },
  {
   "cell_type": "code",
   "execution_count": 3,
   "metadata": {},
   "outputs": [
    {
     "name": "stdout",
     "output_type": "stream",
     "text": [
      "1.1920929e-7\n",
      "1.1920929e-7\n"
     ]
    }
   ],
   "source": [
    "println(machEps(Float32))\n",
    "println(eps(Float32))"
   ]
  },
  {
   "cell_type": "code",
   "execution_count": 4,
   "metadata": {},
   "outputs": [
    {
     "name": "stdout",
     "output_type": "stream",
     "text": [
      "2.220446049250313e-16\n",
      "2.220446049250313e-16\n"
     ]
    }
   ],
   "source": [
    "println(machEps(Float64))\n",
    "println(eps(Float64))"
   ]
  },
  {
   "cell_type": "markdown",
   "metadata": {},
   "source": [
    "### b)\n",
    "Napisać program w języku Julia wyznaczający iteracyjnie liczbę eta taką, że eta > 0.0 dla\n",
    "wszystkich typów zmiennopozycyjnych Float16, Float32, Float64, zgodnych ze standardem\n",
    "IEEE 754 (half, single, double), i porównać z wartościami zwracanymi przez funkcje:\n",
    "nextfloat(Float16(0.0)), nextfloat(Float32(0.0)), nextfloat(Float64(0.0))\n",
    "Wsk. Rozpocząć od jedynki i dzielić w pętli przez dwa. Weź pod uwagę konwersję typów.\n",
    "Jaki związek ma liczba macheps z precyzją arytmetyki (oznaczaną na wykładzie przez \u000f)?\n",
    "Jaki związek ma liczba eta z liczbą MINsub (zob. wykład)?"
   ]
  },
  {
   "cell_type": "code",
   "execution_count": 5,
   "metadata": {},
   "outputs": [
    {
     "name": "stdout",
     "output_type": "stream",
     "text": [
      "6.0e-8\n",
      "1.0e-45\n",
      "5.0e-324\n"
     ]
    }
   ],
   "source": [
    "function eta(dataType)\n",
    "    x = dataType(1)\n",
    "    while x / 2 != 0\n",
    "       x = x / 2\n",
    "    end\n",
    "    return x\n",
    "end\n",
    "println(eta(Float16))\n",
    "println(eta(Float32))\n",
    "println(eta(Float64))"
   ]
  },
  {
   "cell_type": "code",
   "execution_count": 6,
   "metadata": {},
   "outputs": [
    {
     "data": {
      "text/plain": [
       "Float16(6.0e-8)"
      ]
     },
     "execution_count": 6,
     "metadata": {},
     "output_type": "execute_result"
    }
   ],
   "source": [
    "nextfloat(Float16(0.0))"
   ]
  },
  {
   "cell_type": "markdown",
   "metadata": {},
   "source": [
    "### c)\n",
    "Napisać program w języku Julia wyznaczający iteracyjnie liczbę (MAX) dla wszystkich\n",
    "typów zmiennopozycyjnych Float16, Float32, Float64, zgodnych ze standardem\n",
    "IEEE 754 (half, single, double), i porównać z wartościami zwracanymi przez funkcje:\n",
    "realmax(Float16), realmax(Float32), realmax(Float64) oraz z danymi zawartymi w\n",
    "pliku nagłówkowym float.h dowolnej instalacji języka C lub z danymi z wykładu.\n",
    "Wsk.  \n",
    "Skorzystać z funkcji isinf. Weź również pod uwagę konwersję typów."
   ]
  },
  {
   "cell_type": "code",
   "execution_count": 7,
   "metadata": {},
   "outputs": [
    {
     "name": "stdout",
     "output_type": "stream",
     "text": [
      "6.55e4\n",
      "3.4028235e38\n",
      "1.7976931348623157e308\n"
     ]
    }
   ],
   "source": [
    "function MAX(dataType)\n",
    "    x = dataType(1)\n",
    "    while isinf(x * 2) == false\n",
    "        x = x * 2\n",
    "    end\n",
    "    add = x/2\n",
    "    while isinf(x + add) == false\n",
    "        x = x + add\n",
    "        add = add / 2\n",
    "    end\n",
    "    return x\n",
    "end\n",
    "println(MAX(Float16))\n",
    "println(MAX(Float32))\n",
    "println(MAX(Float64))"
   ]
  },
  {
   "cell_type": "code",
   "execution_count": 8,
   "metadata": {},
   "outputs": [
    {
     "name": "stdout",
     "output_type": "stream",
     "text": [
      "6.55e4\n",
      "3.4028235e38\n",
      "1.7976931348623157e308\n"
     ]
    }
   ],
   "source": [
    "println(realmax(Float16))\n",
    "println(realmax(Float32))\n",
    "println(realmax(Float64))"
   ]
  },
  {
   "cell_type": "markdown",
   "metadata": {},
   "source": [
    "## zad. 2\n",
    "Kahan stwierdził, że epsilon maszynowy (macheps) można otrzymać obliczając wyrażenie\n",
    "3(4/3−1)−1 w arytmetyce zmiennopozycyjnej. Sprawdzić eksperymentalnie w języku Julia\n",
    "słuszność tego stwierdzenia dla wszystkich typów zmiennopozycyjnych Float16, Float32,\n",
    "Float64."
   ]
  },
  {
   "cell_type": "code",
   "execution_count": 9,
   "metadata": {},
   "outputs": [
    {
     "data": {
      "text/plain": [
       "2.220446049250313e-16"
      ]
     },
     "execution_count": 9,
     "metadata": {},
     "output_type": "execute_result"
    }
   ],
   "source": [
    "kahanMachEps(dataType) = dataType(abs(3(4/3-1)-1))\n",
    "kahanMachEps(Float64)"
   ]
  },
  {
   "cell_type": "code",
   "execution_count": 10,
   "metadata": {},
   "outputs": [
    {
     "data": {
      "text/plain": [
       "2.220446049250313e-16"
      ]
     },
     "execution_count": 10,
     "metadata": {},
     "output_type": "execute_result"
    }
   ],
   "source": [
    "eps(Float64)"
   ]
  },
  {
   "cell_type": "code",
   "execution_count": 11,
   "metadata": {},
   "outputs": [
    {
     "data": {
      "text/plain": [
       "2.220446f-16"
      ]
     },
     "execution_count": 11,
     "metadata": {},
     "output_type": "execute_result"
    }
   ],
   "source": [
    "kahanMachEps(Float32)"
   ]
  },
  {
   "cell_type": "code",
   "execution_count": 12,
   "metadata": {},
   "outputs": [
    {
     "data": {
      "text/plain": [
       "1.1920929f-7"
      ]
     },
     "execution_count": 12,
     "metadata": {},
     "output_type": "execute_result"
    }
   ],
   "source": [
    "eps(Float32)"
   ]
  },
  {
   "cell_type": "code",
   "execution_count": 13,
   "metadata": {},
   "outputs": [
    {
     "data": {
      "text/plain": [
       "Float16(0.0)"
      ]
     },
     "execution_count": 13,
     "metadata": {},
     "output_type": "execute_result"
    }
   ],
   "source": [
    "kahanMachEps(Float16)"
   ]
  },
  {
   "cell_type": "code",
   "execution_count": 14,
   "metadata": {},
   "outputs": [
    {
     "data": {
      "text/plain": [
       "Float16(0.000977)"
      ]
     },
     "execution_count": 14,
     "metadata": {},
     "output_type": "execute_result"
    }
   ],
   "source": [
    "eps(Float16)"
   ]
  },
  {
   "cell_type": "markdown",
   "metadata": {},
   "source": [
    "### Obserwacja\n",
    "Możemy zauważyć, że twierdzenie zdaje się być prawdziwe jedynie w przypadku gdy typem zmiennopozycyjnym jest **Float64**."
   ]
  },
  {
   "cell_type": "markdown",
   "metadata": {},
   "source": [
    "## zad. 3\n",
    "Sprawdź eksperymentalnie w języku Julia, że w arytmetyce Float64 (arytmetyce double\n",
    "w standarcie IEEE 754) liczby zmiennopozycyjne są równomiernie rozmieszczone w [1, 2] z\n",
    "krokiem δ = 2−52. Innymi słowy, każda liczba zmiennopozycyjna x pomiędzy 1 i 2 może\n",
    "być przedstawione następująco x = 1 + kδ w tej arytmetyce, gdzie k = 1, 2, . . . , 2\n",
    "52 − 1 i\n",
    "δ = 2−52\n",
    ".\n",
    "Jak rozmieszczone są liczby zmiennopozycyjne w przedziale [\n",
    "1\n",
    "2\n",
    ", 1], jak w przedziale[2, 4] i jak\n",
    "mogą być przedstawione dla rozpatrywanego przedziału?\n",
    "Wsk. Skorzystać z funkcji bits"
   ]
  },
  {
   "cell_type": "code",
   "execution_count": 5,
   "metadata": {},
   "outputs": [
    {
     "data": {
      "image/svg+xml": [
       "<?xml version=\"1.0\" encoding=\"utf-8\"?>\n",
       "<svg xmlns=\"http://www.w3.org/2000/svg\" xmlns:xlink=\"http://www.w3.org/1999/xlink\" width=\"750\" height=\"500\" viewBox=\"0 0 3000 2000\">\n",
       "<defs>\n",
       "  <clipPath id=\"clip4500\">\n",
       "    <rect x=\"0\" y=\"0\" width=\"2000\" height=\"2000\"/>\n",
       "  </clipPath>\n",
       "</defs>\n",
       "<defs>\n",
       "  <clipPath id=\"clip4501\">\n",
       "    <rect x=\"0\" y=\"0\" width=\"3000\" height=\"2000\"/>\n",
       "  </clipPath>\n",
       "</defs>\n",
       "<polygon clip-path=\"url(#clip4501)\" points=\"\n",
       "0,2000 3000,2000 3000,0 0,0 \n",
       "  \" fill=\"#ffffff\" fill-opacity=\"1\"/>\n",
       "<defs>\n",
       "  <clipPath id=\"clip4502\">\n",
       "    <rect x=\"600\" y=\"0\" width=\"2101\" height=\"2000\"/>\n",
       "  </clipPath>\n",
       "</defs>\n",
       "<polygon clip-path=\"url(#clip4501)\" points=\"\n",
       "151.563,1879.34 2901.57,1879.34 2901.57,157.48 151.563,157.48 \n",
       "  \" fill=\"#ffffff\" fill-opacity=\"1\"/>\n",
       "<defs>\n",
       "  <clipPath id=\"clip4503\">\n",
       "    <rect x=\"151\" y=\"157\" width=\"2751\" height=\"1723\"/>\n",
       "  </clipPath>\n",
       "</defs>\n",
       "<polyline clip-path=\"url(#clip4503)\" style=\"stroke:#000000; stroke-width:2.5; stroke-opacity:0.1; fill:none\" points=\"\n",
       "  203.188,1879.34 203.188,157.48 \n",
       "  \"/>\n",
       "<polyline clip-path=\"url(#clip4503)\" style=\"stroke:#000000; stroke-width:2.5; stroke-opacity:0.1; fill:none\" points=\"\n",
       "  858.327,1879.34 858.327,157.48 \n",
       "  \"/>\n",
       "<polyline clip-path=\"url(#clip4503)\" style=\"stroke:#000000; stroke-width:2.5; stroke-opacity:0.1; fill:none\" points=\"\n",
       "  1513.47,1879.34 1513.47,157.48 \n",
       "  \"/>\n",
       "<polyline clip-path=\"url(#clip4503)\" style=\"stroke:#000000; stroke-width:2.5; stroke-opacity:0.1; fill:none\" points=\"\n",
       "  2168.61,1879.34 2168.61,157.48 \n",
       "  \"/>\n",
       "<polyline clip-path=\"url(#clip4503)\" style=\"stroke:#000000; stroke-width:2.5; stroke-opacity:0.1; fill:none\" points=\"\n",
       "  2823.74,1879.34 2823.74,157.48 \n",
       "  \"/>\n",
       "<polyline clip-path=\"url(#clip4503)\" style=\"stroke:#000000; stroke-width:2.5; stroke-opacity:0.1; fill:none\" points=\"\n",
       "  151.563,1847.02 2901.57,1847.02 \n",
       "  \"/>\n",
       "<polyline clip-path=\"url(#clip4503)\" style=\"stroke:#000000; stroke-width:2.5; stroke-opacity:0.1; fill:none\" points=\"\n",
       "  151.563,1396 2901.57,1396 \n",
       "  \"/>\n",
       "<polyline clip-path=\"url(#clip4503)\" style=\"stroke:#000000; stroke-width:2.5; stroke-opacity:0.1; fill:none\" points=\"\n",
       "  151.563,944.976 2901.57,944.976 \n",
       "  \"/>\n",
       "<polyline clip-path=\"url(#clip4503)\" style=\"stroke:#000000; stroke-width:2.5; stroke-opacity:0.1; fill:none\" points=\"\n",
       "  151.563,493.954 2901.57,493.954 \n",
       "  \"/>\n",
       "<polyline clip-path=\"url(#clip4501)\" style=\"stroke:#000000; stroke-width:5; stroke-opacity:1; fill:none\" points=\"\n",
       "  151.563,1879.34 2901.57,1879.34 \n",
       "  \"/>\n",
       "<polyline clip-path=\"url(#clip4501)\" style=\"stroke:#000000; stroke-width:5; stroke-opacity:1; fill:none\" points=\"\n",
       "  151.563,1879.34 151.563,157.48 \n",
       "  \"/>\n",
       "<polyline clip-path=\"url(#clip4501)\" style=\"stroke:#000000; stroke-width:5; stroke-opacity:1; fill:none\" points=\"\n",
       "  203.188,1879.34 203.188,1853.52 \n",
       "  \"/>\n",
       "<polyline clip-path=\"url(#clip4501)\" style=\"stroke:#000000; stroke-width:5; stroke-opacity:1; fill:none\" points=\"\n",
       "  858.327,1879.34 858.327,1853.52 \n",
       "  \"/>\n",
       "<polyline clip-path=\"url(#clip4501)\" style=\"stroke:#000000; stroke-width:5; stroke-opacity:1; fill:none\" points=\"\n",
       "  1513.47,1879.34 1513.47,1853.52 \n",
       "  \"/>\n",
       "<polyline clip-path=\"url(#clip4501)\" style=\"stroke:#000000; stroke-width:5; stroke-opacity:1; fill:none\" points=\"\n",
       "  2168.61,1879.34 2168.61,1853.52 \n",
       "  \"/>\n",
       "<polyline clip-path=\"url(#clip4501)\" style=\"stroke:#000000; stroke-width:5; stroke-opacity:1; fill:none\" points=\"\n",
       "  2823.74,1879.34 2823.74,1853.52 \n",
       "  \"/>\n",
       "<polyline clip-path=\"url(#clip4501)\" style=\"stroke:#000000; stroke-width:5; stroke-opacity:1; fill:none\" points=\"\n",
       "  151.563,1847.02 192.813,1847.02 \n",
       "  \"/>\n",
       "<polyline clip-path=\"url(#clip4501)\" style=\"stroke:#000000; stroke-width:5; stroke-opacity:1; fill:none\" points=\"\n",
       "  151.563,1396 192.813,1396 \n",
       "  \"/>\n",
       "<polyline clip-path=\"url(#clip4501)\" style=\"stroke:#000000; stroke-width:5; stroke-opacity:1; fill:none\" points=\"\n",
       "  151.563,944.976 192.813,944.976 \n",
       "  \"/>\n",
       "<polyline clip-path=\"url(#clip4501)\" style=\"stroke:#000000; stroke-width:5; stroke-opacity:1; fill:none\" points=\"\n",
       "  151.563,493.954 192.813,493.954 \n",
       "  \"/>\n",
       "<g clip-path=\"url(#clip4501)\">\n",
       "<text style=\"fill:#000000; fill-opacity:1; font-family:Arial,Helvetica Neue,Helvetica,sans-serif; font-size:59; text-anchor:middle;\" transform=\"rotate(0, 203.188, 1945.94)\" x=\"203.188\" y=\"1945.94\">0</text>\n",
       "</g>\n",
       "<g clip-path=\"url(#clip4501)\">\n",
       "<text style=\"fill:#000000; fill-opacity:1; font-family:Arial,Helvetica Neue,Helvetica,sans-serif; font-size:59; text-anchor:middle;\" transform=\"rotate(0, 858.327, 1945.94)\" x=\"858.327\" y=\"1945.94\">25</text>\n",
       "</g>\n",
       "<g clip-path=\"url(#clip4501)\">\n",
       "<text style=\"fill:#000000; fill-opacity:1; font-family:Arial,Helvetica Neue,Helvetica,sans-serif; font-size:59; text-anchor:middle;\" transform=\"rotate(0, 1513.47, 1945.94)\" x=\"1513.47\" y=\"1945.94\">50</text>\n",
       "</g>\n",
       "<g clip-path=\"url(#clip4501)\">\n",
       "<text style=\"fill:#000000; fill-opacity:1; font-family:Arial,Helvetica Neue,Helvetica,sans-serif; font-size:59; text-anchor:middle;\" transform=\"rotate(0, 2168.61, 1945.94)\" x=\"2168.61\" y=\"1945.94\">75</text>\n",
       "</g>\n",
       "<g clip-path=\"url(#clip4501)\">\n",
       "<text style=\"fill:#000000; fill-opacity:1; font-family:Arial,Helvetica Neue,Helvetica,sans-serif; font-size:59; text-anchor:middle;\" transform=\"rotate(0, 2823.74, 1945.94)\" x=\"2823.74\" y=\"1945.94\">100</text>\n",
       "</g>\n",
       "<g clip-path=\"url(#clip4501)\">\n",
       "<text style=\"fill:#000000; fill-opacity:1; font-family:Arial,Helvetica Neue,Helvetica,sans-serif; font-size:59; text-anchor:end;\" transform=\"rotate(0, 121.563, 1868.52)\" x=\"121.563\" y=\"1868.52\">1</text>\n",
       "</g>\n",
       "<g clip-path=\"url(#clip4501)\">\n",
       "<text style=\"fill:#000000; fill-opacity:1; font-family:Arial,Helvetica Neue,Helvetica,sans-serif; font-size:59; text-anchor:end;\" transform=\"rotate(0, 121.563, 1417.5)\" x=\"121.563\" y=\"1417.5\">1</text>\n",
       "</g>\n",
       "<g clip-path=\"url(#clip4501)\">\n",
       "<text style=\"fill:#000000; fill-opacity:1; font-family:Arial,Helvetica Neue,Helvetica,sans-serif; font-size:59; text-anchor:end;\" transform=\"rotate(0, 121.563, 966.476)\" x=\"121.563\" y=\"966.476\">1</text>\n",
       "</g>\n",
       "<g clip-path=\"url(#clip4501)\">\n",
       "<text style=\"fill:#000000; fill-opacity:1; font-family:Arial,Helvetica Neue,Helvetica,sans-serif; font-size:59; text-anchor:end;\" transform=\"rotate(0, 121.563, 515.454)\" x=\"121.563\" y=\"515.454\">1</text>\n",
       "</g>\n",
       "<g clip-path=\"url(#clip4501)\">\n",
       "<text style=\"fill:#000000; fill-opacity:1; font-family:Arial,Helvetica Neue,Helvetica,sans-serif; font-size:104; text-anchor:middle;\" transform=\"rotate(0, 1526.57, 91.2)\" x=\"1526.57\" y=\"91.2\">My Plot</text>\n",
       "</g>\n",
       "<circle clip-path=\"url(#clip4503)\" style=\"fill:#000000; stroke:none; fill-opacity:1\" cx=\"229.394\" cy=\"1830.61\" r=\"9\"/>\n",
       "<circle clip-path=\"url(#clip4503)\" style=\"fill:#009af9; stroke:none; fill-opacity:1\" cx=\"229.394\" cy=\"1830.61\" r=\"4\"/>\n",
       "<circle clip-path=\"url(#clip4503)\" style=\"fill:#000000; stroke:none; fill-opacity:1\" cx=\"255.599\" cy=\"1814.2\" r=\"9\"/>\n",
       "<circle clip-path=\"url(#clip4503)\" style=\"fill:#009af9; stroke:none; fill-opacity:1\" cx=\"255.599\" cy=\"1814.2\" r=\"4\"/>\n",
       "<circle clip-path=\"url(#clip4503)\" style=\"fill:#000000; stroke:none; fill-opacity:1\" cx=\"281.805\" cy=\"1797.8\" r=\"9\"/>\n",
       "<circle clip-path=\"url(#clip4503)\" style=\"fill:#009af9; stroke:none; fill-opacity:1\" cx=\"281.805\" cy=\"1797.8\" r=\"4\"/>\n",
       "<circle clip-path=\"url(#clip4503)\" style=\"fill:#000000; stroke:none; fill-opacity:1\" cx=\"308.01\" cy=\"1781.39\" r=\"9\"/>\n",
       "<circle clip-path=\"url(#clip4503)\" style=\"fill:#009af9; stroke:none; fill-opacity:1\" cx=\"308.01\" cy=\"1781.39\" r=\"4\"/>\n",
       "<circle clip-path=\"url(#clip4503)\" style=\"fill:#000000; stroke:none; fill-opacity:1\" cx=\"334.216\" cy=\"1764.98\" r=\"9\"/>\n",
       "<circle clip-path=\"url(#clip4503)\" style=\"fill:#009af9; stroke:none; fill-opacity:1\" cx=\"334.216\" cy=\"1764.98\" r=\"4\"/>\n",
       "<circle clip-path=\"url(#clip4503)\" style=\"fill:#000000; stroke:none; fill-opacity:1\" cx=\"360.421\" cy=\"1748.57\" r=\"9\"/>\n",
       "<circle clip-path=\"url(#clip4503)\" style=\"fill:#009af9; stroke:none; fill-opacity:1\" cx=\"360.421\" cy=\"1748.57\" r=\"4\"/>\n",
       "<circle clip-path=\"url(#clip4503)\" style=\"fill:#000000; stroke:none; fill-opacity:1\" cx=\"386.627\" cy=\"1732.16\" r=\"9\"/>\n",
       "<circle clip-path=\"url(#clip4503)\" style=\"fill:#009af9; stroke:none; fill-opacity:1\" cx=\"386.627\" cy=\"1732.16\" r=\"4\"/>\n",
       "<circle clip-path=\"url(#clip4503)\" style=\"fill:#000000; stroke:none; fill-opacity:1\" cx=\"412.833\" cy=\"1715.76\" r=\"9\"/>\n",
       "<circle clip-path=\"url(#clip4503)\" style=\"fill:#009af9; stroke:none; fill-opacity:1\" cx=\"412.833\" cy=\"1715.76\" r=\"4\"/>\n",
       "<circle clip-path=\"url(#clip4503)\" style=\"fill:#000000; stroke:none; fill-opacity:1\" cx=\"439.038\" cy=\"1699.35\" r=\"9\"/>\n",
       "<circle clip-path=\"url(#clip4503)\" style=\"fill:#009af9; stroke:none; fill-opacity:1\" cx=\"439.038\" cy=\"1699.35\" r=\"4\"/>\n",
       "<circle clip-path=\"url(#clip4503)\" style=\"fill:#000000; stroke:none; fill-opacity:1\" cx=\"465.244\" cy=\"1682.94\" r=\"9\"/>\n",
       "<circle clip-path=\"url(#clip4503)\" style=\"fill:#009af9; stroke:none; fill-opacity:1\" cx=\"465.244\" cy=\"1682.94\" r=\"4\"/>\n",
       "<circle clip-path=\"url(#clip4503)\" style=\"fill:#000000; stroke:none; fill-opacity:1\" cx=\"491.449\" cy=\"1666.53\" r=\"9\"/>\n",
       "<circle clip-path=\"url(#clip4503)\" style=\"fill:#009af9; stroke:none; fill-opacity:1\" cx=\"491.449\" cy=\"1666.53\" r=\"4\"/>\n",
       "<circle clip-path=\"url(#clip4503)\" style=\"fill:#000000; stroke:none; fill-opacity:1\" cx=\"517.655\" cy=\"1650.12\" r=\"9\"/>\n",
       "<circle clip-path=\"url(#clip4503)\" style=\"fill:#009af9; stroke:none; fill-opacity:1\" cx=\"517.655\" cy=\"1650.12\" r=\"4\"/>\n",
       "<circle clip-path=\"url(#clip4503)\" style=\"fill:#000000; stroke:none; fill-opacity:1\" cx=\"543.86\" cy=\"1633.71\" r=\"9\"/>\n",
       "<circle clip-path=\"url(#clip4503)\" style=\"fill:#009af9; stroke:none; fill-opacity:1\" cx=\"543.86\" cy=\"1633.71\" r=\"4\"/>\n",
       "<circle clip-path=\"url(#clip4503)\" style=\"fill:#000000; stroke:none; fill-opacity:1\" cx=\"570.066\" cy=\"1617.31\" r=\"9\"/>\n",
       "<circle clip-path=\"url(#clip4503)\" style=\"fill:#009af9; stroke:none; fill-opacity:1\" cx=\"570.066\" cy=\"1617.31\" r=\"4\"/>\n",
       "<circle clip-path=\"url(#clip4503)\" style=\"fill:#000000; stroke:none; fill-opacity:1\" cx=\"596.272\" cy=\"1600.9\" r=\"9\"/>\n",
       "<circle clip-path=\"url(#clip4503)\" style=\"fill:#009af9; stroke:none; fill-opacity:1\" cx=\"596.272\" cy=\"1600.9\" r=\"4\"/>\n",
       "<circle clip-path=\"url(#clip4503)\" style=\"fill:#000000; stroke:none; fill-opacity:1\" cx=\"622.477\" cy=\"1584.49\" r=\"9\"/>\n",
       "<circle clip-path=\"url(#clip4503)\" style=\"fill:#009af9; stroke:none; fill-opacity:1\" cx=\"622.477\" cy=\"1584.49\" r=\"4\"/>\n",
       "<circle clip-path=\"url(#clip4503)\" style=\"fill:#000000; stroke:none; fill-opacity:1\" cx=\"648.683\" cy=\"1568.08\" r=\"9\"/>\n",
       "<circle clip-path=\"url(#clip4503)\" style=\"fill:#009af9; stroke:none; fill-opacity:1\" cx=\"648.683\" cy=\"1568.08\" r=\"4\"/>\n",
       "<circle clip-path=\"url(#clip4503)\" style=\"fill:#000000; stroke:none; fill-opacity:1\" cx=\"674.888\" cy=\"1551.67\" r=\"9\"/>\n",
       "<circle clip-path=\"url(#clip4503)\" style=\"fill:#009af9; stroke:none; fill-opacity:1\" cx=\"674.888\" cy=\"1551.67\" r=\"4\"/>\n",
       "<circle clip-path=\"url(#clip4503)\" style=\"fill:#000000; stroke:none; fill-opacity:1\" cx=\"701.094\" cy=\"1535.27\" r=\"9\"/>\n",
       "<circle clip-path=\"url(#clip4503)\" style=\"fill:#009af9; stroke:none; fill-opacity:1\" cx=\"701.094\" cy=\"1535.27\" r=\"4\"/>\n",
       "<circle clip-path=\"url(#clip4503)\" style=\"fill:#000000; stroke:none; fill-opacity:1\" cx=\"727.299\" cy=\"1518.86\" r=\"9\"/>\n",
       "<circle clip-path=\"url(#clip4503)\" style=\"fill:#009af9; stroke:none; fill-opacity:1\" cx=\"727.299\" cy=\"1518.86\" r=\"4\"/>\n",
       "<circle clip-path=\"url(#clip4503)\" style=\"fill:#000000; stroke:none; fill-opacity:1\" cx=\"753.505\" cy=\"1502.45\" r=\"9\"/>\n",
       "<circle clip-path=\"url(#clip4503)\" style=\"fill:#009af9; stroke:none; fill-opacity:1\" cx=\"753.505\" cy=\"1502.45\" r=\"4\"/>\n",
       "<circle clip-path=\"url(#clip4503)\" style=\"fill:#000000; stroke:none; fill-opacity:1\" cx=\"779.71\" cy=\"1486.04\" r=\"9\"/>\n",
       "<circle clip-path=\"url(#clip4503)\" style=\"fill:#009af9; stroke:none; fill-opacity:1\" cx=\"779.71\" cy=\"1486.04\" r=\"4\"/>\n",
       "<circle clip-path=\"url(#clip4503)\" style=\"fill:#000000; stroke:none; fill-opacity:1\" cx=\"805.916\" cy=\"1469.63\" r=\"9\"/>\n",
       "<circle clip-path=\"url(#clip4503)\" style=\"fill:#009af9; stroke:none; fill-opacity:1\" cx=\"805.916\" cy=\"1469.63\" r=\"4\"/>\n",
       "<circle clip-path=\"url(#clip4503)\" style=\"fill:#000000; stroke:none; fill-opacity:1\" cx=\"832.122\" cy=\"1453.23\" r=\"9\"/>\n",
       "<circle clip-path=\"url(#clip4503)\" style=\"fill:#009af9; stroke:none; fill-opacity:1\" cx=\"832.122\" cy=\"1453.23\" r=\"4\"/>\n",
       "<circle clip-path=\"url(#clip4503)\" style=\"fill:#000000; stroke:none; fill-opacity:1\" cx=\"858.327\" cy=\"1436.82\" r=\"9\"/>\n",
       "<circle clip-path=\"url(#clip4503)\" style=\"fill:#009af9; stroke:none; fill-opacity:1\" cx=\"858.327\" cy=\"1436.82\" r=\"4\"/>\n",
       "<circle clip-path=\"url(#clip4503)\" style=\"fill:#000000; stroke:none; fill-opacity:1\" cx=\"884.533\" cy=\"1420.41\" r=\"9\"/>\n",
       "<circle clip-path=\"url(#clip4503)\" style=\"fill:#009af9; stroke:none; fill-opacity:1\" cx=\"884.533\" cy=\"1420.41\" r=\"4\"/>\n",
       "<circle clip-path=\"url(#clip4503)\" style=\"fill:#000000; stroke:none; fill-opacity:1\" cx=\"910.738\" cy=\"1404\" r=\"9\"/>\n",
       "<circle clip-path=\"url(#clip4503)\" style=\"fill:#009af9; stroke:none; fill-opacity:1\" cx=\"910.738\" cy=\"1404\" r=\"4\"/>\n",
       "<circle clip-path=\"url(#clip4503)\" style=\"fill:#000000; stroke:none; fill-opacity:1\" cx=\"936.944\" cy=\"1387.59\" r=\"9\"/>\n",
       "<circle clip-path=\"url(#clip4503)\" style=\"fill:#009af9; stroke:none; fill-opacity:1\" cx=\"936.944\" cy=\"1387.59\" r=\"4\"/>\n",
       "<circle clip-path=\"url(#clip4503)\" style=\"fill:#000000; stroke:none; fill-opacity:1\" cx=\"963.149\" cy=\"1371.19\" r=\"9\"/>\n",
       "<circle clip-path=\"url(#clip4503)\" style=\"fill:#009af9; stroke:none; fill-opacity:1\" cx=\"963.149\" cy=\"1371.19\" r=\"4\"/>\n",
       "<circle clip-path=\"url(#clip4503)\" style=\"fill:#000000; stroke:none; fill-opacity:1\" cx=\"989.355\" cy=\"1354.78\" r=\"9\"/>\n",
       "<circle clip-path=\"url(#clip4503)\" style=\"fill:#009af9; stroke:none; fill-opacity:1\" cx=\"989.355\" cy=\"1354.78\" r=\"4\"/>\n",
       "<circle clip-path=\"url(#clip4503)\" style=\"fill:#000000; stroke:none; fill-opacity:1\" cx=\"1015.56\" cy=\"1338.37\" r=\"9\"/>\n",
       "<circle clip-path=\"url(#clip4503)\" style=\"fill:#009af9; stroke:none; fill-opacity:1\" cx=\"1015.56\" cy=\"1338.37\" r=\"4\"/>\n",
       "<circle clip-path=\"url(#clip4503)\" style=\"fill:#000000; stroke:none; fill-opacity:1\" cx=\"1041.77\" cy=\"1321.96\" r=\"9\"/>\n",
       "<circle clip-path=\"url(#clip4503)\" style=\"fill:#009af9; stroke:none; fill-opacity:1\" cx=\"1041.77\" cy=\"1321.96\" r=\"4\"/>\n",
       "<circle clip-path=\"url(#clip4503)\" style=\"fill:#000000; stroke:none; fill-opacity:1\" cx=\"1067.97\" cy=\"1305.55\" r=\"9\"/>\n",
       "<circle clip-path=\"url(#clip4503)\" style=\"fill:#009af9; stroke:none; fill-opacity:1\" cx=\"1067.97\" cy=\"1305.55\" r=\"4\"/>\n",
       "<circle clip-path=\"url(#clip4503)\" style=\"fill:#000000; stroke:none; fill-opacity:1\" cx=\"1094.18\" cy=\"1289.15\" r=\"9\"/>\n",
       "<circle clip-path=\"url(#clip4503)\" style=\"fill:#009af9; stroke:none; fill-opacity:1\" cx=\"1094.18\" cy=\"1289.15\" r=\"4\"/>\n",
       "<circle clip-path=\"url(#clip4503)\" style=\"fill:#000000; stroke:none; fill-opacity:1\" cx=\"1120.38\" cy=\"1272.74\" r=\"9\"/>\n",
       "<circle clip-path=\"url(#clip4503)\" style=\"fill:#009af9; stroke:none; fill-opacity:1\" cx=\"1120.38\" cy=\"1272.74\" r=\"4\"/>\n",
       "<circle clip-path=\"url(#clip4503)\" style=\"fill:#000000; stroke:none; fill-opacity:1\" cx=\"1146.59\" cy=\"1256.33\" r=\"9\"/>\n",
       "<circle clip-path=\"url(#clip4503)\" style=\"fill:#009af9; stroke:none; fill-opacity:1\" cx=\"1146.59\" cy=\"1256.33\" r=\"4\"/>\n",
       "<circle clip-path=\"url(#clip4503)\" style=\"fill:#000000; stroke:none; fill-opacity:1\" cx=\"1172.79\" cy=\"1239.92\" r=\"9\"/>\n",
       "<circle clip-path=\"url(#clip4503)\" style=\"fill:#009af9; stroke:none; fill-opacity:1\" cx=\"1172.79\" cy=\"1239.92\" r=\"4\"/>\n",
       "<circle clip-path=\"url(#clip4503)\" style=\"fill:#000000; stroke:none; fill-opacity:1\" cx=\"1199\" cy=\"1223.51\" r=\"9\"/>\n",
       "<circle clip-path=\"url(#clip4503)\" style=\"fill:#009af9; stroke:none; fill-opacity:1\" cx=\"1199\" cy=\"1223.51\" r=\"4\"/>\n",
       "<circle clip-path=\"url(#clip4503)\" style=\"fill:#000000; stroke:none; fill-opacity:1\" cx=\"1225.21\" cy=\"1207.1\" r=\"9\"/>\n",
       "<circle clip-path=\"url(#clip4503)\" style=\"fill:#009af9; stroke:none; fill-opacity:1\" cx=\"1225.21\" cy=\"1207.1\" r=\"4\"/>\n",
       "<circle clip-path=\"url(#clip4503)\" style=\"fill:#000000; stroke:none; fill-opacity:1\" cx=\"1251.41\" cy=\"1190.7\" r=\"9\"/>\n",
       "<circle clip-path=\"url(#clip4503)\" style=\"fill:#009af9; stroke:none; fill-opacity:1\" cx=\"1251.41\" cy=\"1190.7\" r=\"4\"/>\n",
       "<circle clip-path=\"url(#clip4503)\" style=\"fill:#000000; stroke:none; fill-opacity:1\" cx=\"1277.62\" cy=\"1174.29\" r=\"9\"/>\n",
       "<circle clip-path=\"url(#clip4503)\" style=\"fill:#009af9; stroke:none; fill-opacity:1\" cx=\"1277.62\" cy=\"1174.29\" r=\"4\"/>\n",
       "<circle clip-path=\"url(#clip4503)\" style=\"fill:#000000; stroke:none; fill-opacity:1\" cx=\"1303.82\" cy=\"1157.88\" r=\"9\"/>\n",
       "<circle clip-path=\"url(#clip4503)\" style=\"fill:#009af9; stroke:none; fill-opacity:1\" cx=\"1303.82\" cy=\"1157.88\" r=\"4\"/>\n",
       "<circle clip-path=\"url(#clip4503)\" style=\"fill:#000000; stroke:none; fill-opacity:1\" cx=\"1330.03\" cy=\"1141.47\" r=\"9\"/>\n",
       "<circle clip-path=\"url(#clip4503)\" style=\"fill:#009af9; stroke:none; fill-opacity:1\" cx=\"1330.03\" cy=\"1141.47\" r=\"4\"/>\n",
       "<circle clip-path=\"url(#clip4503)\" style=\"fill:#000000; stroke:none; fill-opacity:1\" cx=\"1356.23\" cy=\"1125.06\" r=\"9\"/>\n",
       "<circle clip-path=\"url(#clip4503)\" style=\"fill:#009af9; stroke:none; fill-opacity:1\" cx=\"1356.23\" cy=\"1125.06\" r=\"4\"/>\n",
       "<circle clip-path=\"url(#clip4503)\" style=\"fill:#000000; stroke:none; fill-opacity:1\" cx=\"1382.44\" cy=\"1108.66\" r=\"9\"/>\n",
       "<circle clip-path=\"url(#clip4503)\" style=\"fill:#009af9; stroke:none; fill-opacity:1\" cx=\"1382.44\" cy=\"1108.66\" r=\"4\"/>\n",
       "<circle clip-path=\"url(#clip4503)\" style=\"fill:#000000; stroke:none; fill-opacity:1\" cx=\"1408.64\" cy=\"1092.25\" r=\"9\"/>\n",
       "<circle clip-path=\"url(#clip4503)\" style=\"fill:#009af9; stroke:none; fill-opacity:1\" cx=\"1408.64\" cy=\"1092.25\" r=\"4\"/>\n",
       "<circle clip-path=\"url(#clip4503)\" style=\"fill:#000000; stroke:none; fill-opacity:1\" cx=\"1434.85\" cy=\"1075.84\" r=\"9\"/>\n",
       "<circle clip-path=\"url(#clip4503)\" style=\"fill:#009af9; stroke:none; fill-opacity:1\" cx=\"1434.85\" cy=\"1075.84\" r=\"4\"/>\n",
       "<circle clip-path=\"url(#clip4503)\" style=\"fill:#000000; stroke:none; fill-opacity:1\" cx=\"1461.06\" cy=\"1059.43\" r=\"9\"/>\n",
       "<circle clip-path=\"url(#clip4503)\" style=\"fill:#009af9; stroke:none; fill-opacity:1\" cx=\"1461.06\" cy=\"1059.43\" r=\"4\"/>\n",
       "<circle clip-path=\"url(#clip4503)\" style=\"fill:#000000; stroke:none; fill-opacity:1\" cx=\"1487.26\" cy=\"1043.02\" r=\"9\"/>\n",
       "<circle clip-path=\"url(#clip4503)\" style=\"fill:#009af9; stroke:none; fill-opacity:1\" cx=\"1487.26\" cy=\"1043.02\" r=\"4\"/>\n",
       "<circle clip-path=\"url(#clip4503)\" style=\"fill:#000000; stroke:none; fill-opacity:1\" cx=\"1513.47\" cy=\"1026.62\" r=\"9\"/>\n",
       "<circle clip-path=\"url(#clip4503)\" style=\"fill:#009af9; stroke:none; fill-opacity:1\" cx=\"1513.47\" cy=\"1026.62\" r=\"4\"/>\n",
       "<circle clip-path=\"url(#clip4503)\" style=\"fill:#000000; stroke:none; fill-opacity:1\" cx=\"1539.67\" cy=\"1010.21\" r=\"9\"/>\n",
       "<circle clip-path=\"url(#clip4503)\" style=\"fill:#009af9; stroke:none; fill-opacity:1\" cx=\"1539.67\" cy=\"1010.21\" r=\"4\"/>\n",
       "<circle clip-path=\"url(#clip4503)\" style=\"fill:#000000; stroke:none; fill-opacity:1\" cx=\"1565.88\" cy=\"993.8\" r=\"9\"/>\n",
       "<circle clip-path=\"url(#clip4503)\" style=\"fill:#009af9; stroke:none; fill-opacity:1\" cx=\"1565.88\" cy=\"993.8\" r=\"4\"/>\n",
       "<circle clip-path=\"url(#clip4503)\" style=\"fill:#000000; stroke:none; fill-opacity:1\" cx=\"1592.08\" cy=\"977.392\" r=\"9\"/>\n",
       "<circle clip-path=\"url(#clip4503)\" style=\"fill:#009af9; stroke:none; fill-opacity:1\" cx=\"1592.08\" cy=\"977.392\" r=\"4\"/>\n",
       "<circle clip-path=\"url(#clip4503)\" style=\"fill:#000000; stroke:none; fill-opacity:1\" cx=\"1618.29\" cy=\"960.984\" r=\"9\"/>\n",
       "<circle clip-path=\"url(#clip4503)\" style=\"fill:#009af9; stroke:none; fill-opacity:1\" cx=\"1618.29\" cy=\"960.984\" r=\"4\"/>\n",
       "<circle clip-path=\"url(#clip4503)\" style=\"fill:#000000; stroke:none; fill-opacity:1\" cx=\"1644.49\" cy=\"944.576\" r=\"9\"/>\n",
       "<circle clip-path=\"url(#clip4503)\" style=\"fill:#009af9; stroke:none; fill-opacity:1\" cx=\"1644.49\" cy=\"944.576\" r=\"4\"/>\n",
       "<circle clip-path=\"url(#clip4503)\" style=\"fill:#000000; stroke:none; fill-opacity:1\" cx=\"1670.7\" cy=\"928.167\" r=\"9\"/>\n",
       "<circle clip-path=\"url(#clip4503)\" style=\"fill:#009af9; stroke:none; fill-opacity:1\" cx=\"1670.7\" cy=\"928.167\" r=\"4\"/>\n",
       "<circle clip-path=\"url(#clip4503)\" style=\"fill:#000000; stroke:none; fill-opacity:1\" cx=\"1696.91\" cy=\"911.759\" r=\"9\"/>\n",
       "<circle clip-path=\"url(#clip4503)\" style=\"fill:#009af9; stroke:none; fill-opacity:1\" cx=\"1696.91\" cy=\"911.759\" r=\"4\"/>\n",
       "<circle clip-path=\"url(#clip4503)\" style=\"fill:#000000; stroke:none; fill-opacity:1\" cx=\"1723.11\" cy=\"895.351\" r=\"9\"/>\n",
       "<circle clip-path=\"url(#clip4503)\" style=\"fill:#009af9; stroke:none; fill-opacity:1\" cx=\"1723.11\" cy=\"895.351\" r=\"4\"/>\n",
       "<circle clip-path=\"url(#clip4503)\" style=\"fill:#000000; stroke:none; fill-opacity:1\" cx=\"1749.32\" cy=\"878.943\" r=\"9\"/>\n",
       "<circle clip-path=\"url(#clip4503)\" style=\"fill:#009af9; stroke:none; fill-opacity:1\" cx=\"1749.32\" cy=\"878.943\" r=\"4\"/>\n",
       "<circle clip-path=\"url(#clip4503)\" style=\"fill:#000000; stroke:none; fill-opacity:1\" cx=\"1775.52\" cy=\"862.535\" r=\"9\"/>\n",
       "<circle clip-path=\"url(#clip4503)\" style=\"fill:#009af9; stroke:none; fill-opacity:1\" cx=\"1775.52\" cy=\"862.535\" r=\"4\"/>\n",
       "<circle clip-path=\"url(#clip4503)\" style=\"fill:#000000; stroke:none; fill-opacity:1\" cx=\"1801.73\" cy=\"846.127\" r=\"9\"/>\n",
       "<circle clip-path=\"url(#clip4503)\" style=\"fill:#009af9; stroke:none; fill-opacity:1\" cx=\"1801.73\" cy=\"846.127\" r=\"4\"/>\n",
       "<circle clip-path=\"url(#clip4503)\" style=\"fill:#000000; stroke:none; fill-opacity:1\" cx=\"1827.93\" cy=\"829.719\" r=\"9\"/>\n",
       "<circle clip-path=\"url(#clip4503)\" style=\"fill:#009af9; stroke:none; fill-opacity:1\" cx=\"1827.93\" cy=\"829.719\" r=\"4\"/>\n",
       "<circle clip-path=\"url(#clip4503)\" style=\"fill:#000000; stroke:none; fill-opacity:1\" cx=\"1854.14\" cy=\"813.311\" r=\"9\"/>\n",
       "<circle clip-path=\"url(#clip4503)\" style=\"fill:#009af9; stroke:none; fill-opacity:1\" cx=\"1854.14\" cy=\"813.311\" r=\"4\"/>\n",
       "<circle clip-path=\"url(#clip4503)\" style=\"fill:#000000; stroke:none; fill-opacity:1\" cx=\"1880.34\" cy=\"796.903\" r=\"9\"/>\n",
       "<circle clip-path=\"url(#clip4503)\" style=\"fill:#009af9; stroke:none; fill-opacity:1\" cx=\"1880.34\" cy=\"796.903\" r=\"4\"/>\n",
       "<circle clip-path=\"url(#clip4503)\" style=\"fill:#000000; stroke:none; fill-opacity:1\" cx=\"1906.55\" cy=\"780.495\" r=\"9\"/>\n",
       "<circle clip-path=\"url(#clip4503)\" style=\"fill:#009af9; stroke:none; fill-opacity:1\" cx=\"1906.55\" cy=\"780.495\" r=\"4\"/>\n",
       "<circle clip-path=\"url(#clip4503)\" style=\"fill:#000000; stroke:none; fill-opacity:1\" cx=\"1932.76\" cy=\"764.087\" r=\"9\"/>\n",
       "<circle clip-path=\"url(#clip4503)\" style=\"fill:#009af9; stroke:none; fill-opacity:1\" cx=\"1932.76\" cy=\"764.087\" r=\"4\"/>\n",
       "<circle clip-path=\"url(#clip4503)\" style=\"fill:#000000; stroke:none; fill-opacity:1\" cx=\"1958.96\" cy=\"747.679\" r=\"9\"/>\n",
       "<circle clip-path=\"url(#clip4503)\" style=\"fill:#009af9; stroke:none; fill-opacity:1\" cx=\"1958.96\" cy=\"747.679\" r=\"4\"/>\n",
       "<circle clip-path=\"url(#clip4503)\" style=\"fill:#000000; stroke:none; fill-opacity:1\" cx=\"1985.17\" cy=\"731.271\" r=\"9\"/>\n",
       "<circle clip-path=\"url(#clip4503)\" style=\"fill:#009af9; stroke:none; fill-opacity:1\" cx=\"1985.17\" cy=\"731.271\" r=\"4\"/>\n",
       "<circle clip-path=\"url(#clip4503)\" style=\"fill:#000000; stroke:none; fill-opacity:1\" cx=\"2011.37\" cy=\"714.862\" r=\"9\"/>\n",
       "<circle clip-path=\"url(#clip4503)\" style=\"fill:#009af9; stroke:none; fill-opacity:1\" cx=\"2011.37\" cy=\"714.862\" r=\"4\"/>\n",
       "<circle clip-path=\"url(#clip4503)\" style=\"fill:#000000; stroke:none; fill-opacity:1\" cx=\"2037.58\" cy=\"698.454\" r=\"9\"/>\n",
       "<circle clip-path=\"url(#clip4503)\" style=\"fill:#009af9; stroke:none; fill-opacity:1\" cx=\"2037.58\" cy=\"698.454\" r=\"4\"/>\n",
       "<circle clip-path=\"url(#clip4503)\" style=\"fill:#000000; stroke:none; fill-opacity:1\" cx=\"2063.78\" cy=\"682.046\" r=\"9\"/>\n",
       "<circle clip-path=\"url(#clip4503)\" style=\"fill:#009af9; stroke:none; fill-opacity:1\" cx=\"2063.78\" cy=\"682.046\" r=\"4\"/>\n",
       "<circle clip-path=\"url(#clip4503)\" style=\"fill:#000000; stroke:none; fill-opacity:1\" cx=\"2089.99\" cy=\"665.638\" r=\"9\"/>\n",
       "<circle clip-path=\"url(#clip4503)\" style=\"fill:#009af9; stroke:none; fill-opacity:1\" cx=\"2089.99\" cy=\"665.638\" r=\"4\"/>\n",
       "<circle clip-path=\"url(#clip4503)\" style=\"fill:#000000; stroke:none; fill-opacity:1\" cx=\"2116.19\" cy=\"649.23\" r=\"9\"/>\n",
       "<circle clip-path=\"url(#clip4503)\" style=\"fill:#009af9; stroke:none; fill-opacity:1\" cx=\"2116.19\" cy=\"649.23\" r=\"4\"/>\n",
       "<circle clip-path=\"url(#clip4503)\" style=\"fill:#000000; stroke:none; fill-opacity:1\" cx=\"2142.4\" cy=\"632.822\" r=\"9\"/>\n",
       "<circle clip-path=\"url(#clip4503)\" style=\"fill:#009af9; stroke:none; fill-opacity:1\" cx=\"2142.4\" cy=\"632.822\" r=\"4\"/>\n",
       "<circle clip-path=\"url(#clip4503)\" style=\"fill:#000000; stroke:none; fill-opacity:1\" cx=\"2168.61\" cy=\"616.414\" r=\"9\"/>\n",
       "<circle clip-path=\"url(#clip4503)\" style=\"fill:#009af9; stroke:none; fill-opacity:1\" cx=\"2168.61\" cy=\"616.414\" r=\"4\"/>\n",
       "<circle clip-path=\"url(#clip4503)\" style=\"fill:#000000; stroke:none; fill-opacity:1\" cx=\"2194.81\" cy=\"600.006\" r=\"9\"/>\n",
       "<circle clip-path=\"url(#clip4503)\" style=\"fill:#009af9; stroke:none; fill-opacity:1\" cx=\"2194.81\" cy=\"600.006\" r=\"4\"/>\n",
       "<circle clip-path=\"url(#clip4503)\" style=\"fill:#000000; stroke:none; fill-opacity:1\" cx=\"2221.02\" cy=\"583.598\" r=\"9\"/>\n",
       "<circle clip-path=\"url(#clip4503)\" style=\"fill:#009af9; stroke:none; fill-opacity:1\" cx=\"2221.02\" cy=\"583.598\" r=\"4\"/>\n",
       "<circle clip-path=\"url(#clip4503)\" style=\"fill:#000000; stroke:none; fill-opacity:1\" cx=\"2247.22\" cy=\"567.19\" r=\"9\"/>\n",
       "<circle clip-path=\"url(#clip4503)\" style=\"fill:#009af9; stroke:none; fill-opacity:1\" cx=\"2247.22\" cy=\"567.19\" r=\"4\"/>\n",
       "<circle clip-path=\"url(#clip4503)\" style=\"fill:#000000; stroke:none; fill-opacity:1\" cx=\"2273.43\" cy=\"550.782\" r=\"9\"/>\n",
       "<circle clip-path=\"url(#clip4503)\" style=\"fill:#009af9; stroke:none; fill-opacity:1\" cx=\"2273.43\" cy=\"550.782\" r=\"4\"/>\n",
       "<circle clip-path=\"url(#clip4503)\" style=\"fill:#000000; stroke:none; fill-opacity:1\" cx=\"2299.63\" cy=\"534.374\" r=\"9\"/>\n",
       "<circle clip-path=\"url(#clip4503)\" style=\"fill:#009af9; stroke:none; fill-opacity:1\" cx=\"2299.63\" cy=\"534.374\" r=\"4\"/>\n",
       "<circle clip-path=\"url(#clip4503)\" style=\"fill:#000000; stroke:none; fill-opacity:1\" cx=\"2325.84\" cy=\"517.966\" r=\"9\"/>\n",
       "<circle clip-path=\"url(#clip4503)\" style=\"fill:#009af9; stroke:none; fill-opacity:1\" cx=\"2325.84\" cy=\"517.966\" r=\"4\"/>\n",
       "<circle clip-path=\"url(#clip4503)\" style=\"fill:#000000; stroke:none; fill-opacity:1\" cx=\"2352.04\" cy=\"501.557\" r=\"9\"/>\n",
       "<circle clip-path=\"url(#clip4503)\" style=\"fill:#009af9; stroke:none; fill-opacity:1\" cx=\"2352.04\" cy=\"501.557\" r=\"4\"/>\n",
       "<circle clip-path=\"url(#clip4503)\" style=\"fill:#000000; stroke:none; fill-opacity:1\" cx=\"2378.25\" cy=\"485.149\" r=\"9\"/>\n",
       "<circle clip-path=\"url(#clip4503)\" style=\"fill:#009af9; stroke:none; fill-opacity:1\" cx=\"2378.25\" cy=\"485.149\" r=\"4\"/>\n",
       "<circle clip-path=\"url(#clip4503)\" style=\"fill:#000000; stroke:none; fill-opacity:1\" cx=\"2404.46\" cy=\"468.741\" r=\"9\"/>\n",
       "<circle clip-path=\"url(#clip4503)\" style=\"fill:#009af9; stroke:none; fill-opacity:1\" cx=\"2404.46\" cy=\"468.741\" r=\"4\"/>\n",
       "<circle clip-path=\"url(#clip4503)\" style=\"fill:#000000; stroke:none; fill-opacity:1\" cx=\"2430.66\" cy=\"452.333\" r=\"9\"/>\n",
       "<circle clip-path=\"url(#clip4503)\" style=\"fill:#009af9; stroke:none; fill-opacity:1\" cx=\"2430.66\" cy=\"452.333\" r=\"4\"/>\n",
       "<circle clip-path=\"url(#clip4503)\" style=\"fill:#000000; stroke:none; fill-opacity:1\" cx=\"2456.87\" cy=\"435.925\" r=\"9\"/>\n",
       "<circle clip-path=\"url(#clip4503)\" style=\"fill:#009af9; stroke:none; fill-opacity:1\" cx=\"2456.87\" cy=\"435.925\" r=\"4\"/>\n",
       "<circle clip-path=\"url(#clip4503)\" style=\"fill:#000000; stroke:none; fill-opacity:1\" cx=\"2483.07\" cy=\"419.517\" r=\"9\"/>\n",
       "<circle clip-path=\"url(#clip4503)\" style=\"fill:#009af9; stroke:none; fill-opacity:1\" cx=\"2483.07\" cy=\"419.517\" r=\"4\"/>\n",
       "<circle clip-path=\"url(#clip4503)\" style=\"fill:#000000; stroke:none; fill-opacity:1\" cx=\"2509.28\" cy=\"403.109\" r=\"9\"/>\n",
       "<circle clip-path=\"url(#clip4503)\" style=\"fill:#009af9; stroke:none; fill-opacity:1\" cx=\"2509.28\" cy=\"403.109\" r=\"4\"/>\n",
       "<circle clip-path=\"url(#clip4503)\" style=\"fill:#000000; stroke:none; fill-opacity:1\" cx=\"2535.48\" cy=\"386.701\" r=\"9\"/>\n",
       "<circle clip-path=\"url(#clip4503)\" style=\"fill:#009af9; stroke:none; fill-opacity:1\" cx=\"2535.48\" cy=\"386.701\" r=\"4\"/>\n",
       "<circle clip-path=\"url(#clip4503)\" style=\"fill:#000000; stroke:none; fill-opacity:1\" cx=\"2561.69\" cy=\"370.293\" r=\"9\"/>\n",
       "<circle clip-path=\"url(#clip4503)\" style=\"fill:#009af9; stroke:none; fill-opacity:1\" cx=\"2561.69\" cy=\"370.293\" r=\"4\"/>\n",
       "<circle clip-path=\"url(#clip4503)\" style=\"fill:#000000; stroke:none; fill-opacity:1\" cx=\"2587.89\" cy=\"353.885\" r=\"9\"/>\n",
       "<circle clip-path=\"url(#clip4503)\" style=\"fill:#009af9; stroke:none; fill-opacity:1\" cx=\"2587.89\" cy=\"353.885\" r=\"4\"/>\n",
       "<circle clip-path=\"url(#clip4503)\" style=\"fill:#000000; stroke:none; fill-opacity:1\" cx=\"2614.1\" cy=\"337.477\" r=\"9\"/>\n",
       "<circle clip-path=\"url(#clip4503)\" style=\"fill:#009af9; stroke:none; fill-opacity:1\" cx=\"2614.1\" cy=\"337.477\" r=\"4\"/>\n",
       "<circle clip-path=\"url(#clip4503)\" style=\"fill:#000000; stroke:none; fill-opacity:1\" cx=\"2640.31\" cy=\"321.069\" r=\"9\"/>\n",
       "<circle clip-path=\"url(#clip4503)\" style=\"fill:#009af9; stroke:none; fill-opacity:1\" cx=\"2640.31\" cy=\"321.069\" r=\"4\"/>\n",
       "<circle clip-path=\"url(#clip4503)\" style=\"fill:#000000; stroke:none; fill-opacity:1\" cx=\"2666.51\" cy=\"304.661\" r=\"9\"/>\n",
       "<circle clip-path=\"url(#clip4503)\" style=\"fill:#009af9; stroke:none; fill-opacity:1\" cx=\"2666.51\" cy=\"304.661\" r=\"4\"/>\n",
       "<circle clip-path=\"url(#clip4503)\" style=\"fill:#000000; stroke:none; fill-opacity:1\" cx=\"2692.72\" cy=\"288.252\" r=\"9\"/>\n",
       "<circle clip-path=\"url(#clip4503)\" style=\"fill:#009af9; stroke:none; fill-opacity:1\" cx=\"2692.72\" cy=\"288.252\" r=\"4\"/>\n",
       "<circle clip-path=\"url(#clip4503)\" style=\"fill:#000000; stroke:none; fill-opacity:1\" cx=\"2718.92\" cy=\"271.844\" r=\"9\"/>\n",
       "<circle clip-path=\"url(#clip4503)\" style=\"fill:#009af9; stroke:none; fill-opacity:1\" cx=\"2718.92\" cy=\"271.844\" r=\"4\"/>\n",
       "<circle clip-path=\"url(#clip4503)\" style=\"fill:#000000; stroke:none; fill-opacity:1\" cx=\"2745.13\" cy=\"255.436\" r=\"9\"/>\n",
       "<circle clip-path=\"url(#clip4503)\" style=\"fill:#009af9; stroke:none; fill-opacity:1\" cx=\"2745.13\" cy=\"255.436\" r=\"4\"/>\n",
       "<circle clip-path=\"url(#clip4503)\" style=\"fill:#000000; stroke:none; fill-opacity:1\" cx=\"2771.33\" cy=\"239.028\" r=\"9\"/>\n",
       "<circle clip-path=\"url(#clip4503)\" style=\"fill:#009af9; stroke:none; fill-opacity:1\" cx=\"2771.33\" cy=\"239.028\" r=\"4\"/>\n",
       "<circle clip-path=\"url(#clip4503)\" style=\"fill:#000000; stroke:none; fill-opacity:1\" cx=\"2797.54\" cy=\"222.62\" r=\"9\"/>\n",
       "<circle clip-path=\"url(#clip4503)\" style=\"fill:#009af9; stroke:none; fill-opacity:1\" cx=\"2797.54\" cy=\"222.62\" r=\"4\"/>\n",
       "<circle clip-path=\"url(#clip4503)\" style=\"fill:#000000; stroke:none; fill-opacity:1\" cx=\"2823.74\" cy=\"206.212\" r=\"9\"/>\n",
       "<circle clip-path=\"url(#clip4503)\" style=\"fill:#009af9; stroke:none; fill-opacity:1\" cx=\"2823.74\" cy=\"206.212\" r=\"4\"/>\n",
       "<polygon clip-path=\"url(#clip4501)\" points=\"\n",
       "2448.04,413.08 2811.57,413.08 2811.57,261.88 2448.04,261.88 \n",
       "  \" fill=\"#ffffff\" fill-opacity=\"1\"/>\n",
       "<polyline clip-path=\"url(#clip4501)\" style=\"stroke:#000000; stroke-width:5; stroke-opacity:1; fill:none\" points=\"\n",
       "  2448.04,413.08 2811.57,413.08 2811.57,261.88 2448.04,261.88 2448.04,413.08 \n",
       "  \"/>\n",
       "<circle clip-path=\"url(#clip4501)\" style=\"fill:#000000; stroke:none; fill-opacity:1\" cx=\"2583.04\" cy=\"337.48\" r=\"31\"/>\n",
       "<circle clip-path=\"url(#clip4501)\" style=\"fill:#009af9; stroke:none; fill-opacity:1\" cx=\"2583.04\" cy=\"337.48\" r=\"27\"/>\n",
       "<g clip-path=\"url(#clip4501)\">\n",
       "<text style=\"fill:#000000; fill-opacity:1; font-family:Arial,Helvetica Neue,Helvetica,sans-serif; font-size:59; text-anchor:start;\" transform=\"rotate(0, 2688.04, 358.98)\" x=\"2688.04\" y=\"358.98\">y1</text>\n",
       "</g>\n",
       "</svg>\n"
      ]
     },
     "execution_count": 5,
     "metadata": {},
     "output_type": "execute_result"
    }
   ],
   "source": [
    "using Plots\n",
    "\n",
    "d = 2.0^(-52)\n",
    "function val(k)\n",
    "    return Float64(1. + k * 2.0^(-38))\n",
    "end\n",
    "\n",
    "x = range(1, 100)\n",
    "Plots.scatter(x, val, markersize=1,title=\"My Plot\", dpi=500)"
   ]
  },
  {
   "cell_type": "code",
   "execution_count": 67,
   "metadata": {},
   "outputs": [
    {
     "data": {
      "text/plain": [
       "0.9129452507276277"
      ]
     },
     "execution_count": 67,
     "metadata": {},
     "output_type": "execute_result"
    }
   ],
   "source": [
    "sin(20)"
   ]
  },
  {
   "cell_type": "markdown",
   "metadata": {},
   "source": [
    "## zad. 4\n",
    "Znajdź eksperymentalnie w arytmetyce Float64 zgodnej ze standardem IEEE 754\n",
    "(double) liczbę zmiennopozycyjną x w przedziale 1 < x < 2, taką, że x ∗ (1/x) != 1; tj.\n",
    "fl(xfl(1/x)) != 1 (napisz program w języku Julia znajdujący tę liczbę)."
   ]
  },
  {
   "cell_type": "code",
   "execution_count": 6,
   "metadata": {},
   "outputs": [
    {
     "name": "stdout",
     "output_type": "stream",
     "text": [
      "1.000000057228997\n"
     ]
    }
   ],
   "source": [
    "x = nextfloat(Float64(1.0))\n",
    "while x * (1.0/x) == 1.0 && x < 2.0\n",
    "    x = nextfloat(Float64(x))\n",
    "end\n",
    "println(x) # 1.000000057228997"
   ]
  },
  {
   "cell_type": "markdown",
   "metadata": {},
   "source": [
    "## zad. 5\n",
    "Napisz program w języku Julia realizujący następujący eksperyment obliczania iloczynu\n",
    "skalarnego dwóch wektorów:"
   ]
  },
  {
   "cell_type": "code",
   "execution_count": 5,
   "metadata": {
    "collapsed": true
   },
   "outputs": [
    {
     "data": {
      "text/plain": [
       "5-element Array{Float64,1}:\n",
       "   1486.25       \n",
       " 878367.0        \n",
       "    -22.3749     \n",
       "      4.77371e6  \n",
       "      0.000185049"
      ]
     },
     "execution_count": 5,
     "metadata": {},
     "output_type": "execute_result"
    }
   ],
   "source": [
    "x = [2.718281828, -3.141592654, 1.414213562, 0.5772156649, 0.3010299957]\n",
    "y = [1486.2497, 878366.9879, -22.37492, 4773714.647, 0.000185049]"
   ]
  },
  {
   "cell_type": "code",
   "execution_count": 6,
   "metadata": {},
   "outputs": [
    {
     "data": {
      "text/plain": [
       "1.0251881368296672e-10"
      ]
     },
     "execution_count": 6,
     "metadata": {},
     "output_type": "execute_result"
    }
   ],
   "source": [
    "function forwardSum(a, b, n)\n",
    "    S = 0.0\n",
    "    for i in 1:n\n",
    "        S += a[i] * b[i]\n",
    "    end\n",
    "    return S\n",
    "end\n",
    "forwardSum(x, y, 5)"
   ]
  },
  {
   "cell_type": "code",
   "execution_count": 7,
   "metadata": {},
   "outputs": [
    {
     "data": {
      "text/plain": [
       "-1.5643308870494366e-10"
      ]
     },
     "execution_count": 7,
     "metadata": {},
     "output_type": "execute_result"
    }
   ],
   "source": [
    "function reverseSum(a, b, n)\n",
    "    S = 0.0\n",
    "    i = n\n",
    "    while i > 0\n",
    "        S += a[i] * b[i]\n",
    "        i = i - 1\n",
    "    end\n",
    "    return S\n",
    "end\n",
    "reverseSum(x, y, 5)"
   ]
  },
  {
   "cell_type": "code",
   "execution_count": 34,
   "metadata": {},
   "outputs": [
    {
     "data": {
      "text/plain": [
       "0.0"
      ]
     },
     "execution_count": 34,
     "metadata": {},
     "output_type": "execute_result"
    }
   ],
   "source": [
    "function sumPositiveNegative(a, b, reverse=true) \n",
    "    s_plus = 0.0\n",
    "    s_minus = 0.0\n",
    "    v = zeros(5)\n",
    "    for i in 1:5\n",
    "        v[i] = a[i]*b[i]\n",
    "    end\n",
    "    sort!(v, rev=reverse)\n",
    "    for val in v\n",
    "        if(val < 0)\n",
    "            s_minus += val\n",
    "        else\n",
    "            s_plus += val\n",
    "        end\n",
    "    end\n",
    "    return s_plus + s_minus\n",
    "end\n",
    "spn = sumPositiveNegative(x, y, false)"
   ]
  },
  {
   "cell_type": "code",
   "execution_count": null,
   "metadata": {},
   "outputs": [],
   "source": []
  }
 ],
 "metadata": {
  "kernelspec": {
   "display_name": "Julia 0.6.4",
   "language": "julia",
   "name": "julia-0.6"
  },
  "language_info": {
   "file_extension": ".jl",
   "mimetype": "application/julia",
   "name": "julia",
   "version": "0.6.4"
  }
 },
 "nbformat": 4,
 "nbformat_minor": 2
}
